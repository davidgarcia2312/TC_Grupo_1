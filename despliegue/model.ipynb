{
 "cells": [
  {
   "cell_type": "code",
   "execution_count": null,
   "id": "570a7a45",
   "metadata": {},
   "outputs": [],
   "source": [
    "import pandas as pd\n",
    "import numpy as np\n",
    "from sklearn.model_selection import train_test_split, cross_val_score\n",
    "from sklearn.metrics import mean_squared_error, mean_absolute_percentage_error\n",
    "from sklearn.ensemble import RandomForestRegressor\n",
    "import pickle\n",
    "import os\n",
    "import joblib\n",
    "\n",
    "os.chdir(os.path.dirname(__file__))\n",
    "\n",
    "data = pd.read_csv('data/winequality.csv', sep=\";\")\n",
    "\n",
    "X = data[['alcohol', 'pH', 'sulphates']]\n",
    "y = data['quality'] \n",
    "\n",
    "X_train, X_test, y_train, y_test = train_test_split(X,\n",
    "                                                    y,\n",
    "                                                    test_size = 0.20,\n",
    "                                                    random_state=42)\n",
    "\n",
    "model = RandomForestRegressor(max_depth=20, max_features=None, n_estimators=1000, random_state=42)\n",
    "model.fit(X_train, y_train)\n",
    "\n",
    "model.fit(data.drop(columns = [\"quality\"]), data[\"quality\"]) #entrenamos con todos los datos\n",
    "\n",
    "with open('ad_model.pkl', 'wb') as f:\n",
    "    pickle.dump(model, f)"
   ]
  }
 ],
 "metadata": {
  "language_info": {
   "name": "python"
  }
 },
 "nbformat": 4,
 "nbformat_minor": 5
}
